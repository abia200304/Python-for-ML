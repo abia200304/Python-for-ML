{
 "cells": [
  {
   "cell_type": "markdown",
   "id": "fa5e8066-232e-435b-913f-1cb7baafc35e",
   "metadata": {},
   "source": [
    " # Basics of `python` coding\n",
    " In this notebook we will explain basics `Python` for Machine Learning"
   ]
  },
  {
   "cell_type": "markdown",
   "id": "af69838a-9dd5-4736-b4fd-2fb88e41ca05",
   "metadata": {},
   "source": [
    "## Derived datatypes in `Python`"
   ]
  },
  {
   "cell_type": "markdown",
   "id": "4b5ac1e1-ff17-4dd3-9c4b-ec88bc447cc7",
   "metadata": {},
   "source": [
    ">**NOTE:** In Python `int,foat,str` are atomic datatypes and no declarations are required."
   ]
  },
  {
   "cell_type": "markdown",
   "id": "ee1113cd-9ee3-43fa-9075-5f531bdeccc7",
   "metadata": {},
   "source": [
    "## List"
   ]
  },
  {
   "cell_type": "code",
   "execution_count": null,
   "id": "96ef6b7b-44cf-4acb-9aaa-58b3452aaceb",
   "metadata": {},
   "outputs": [],
   "source": [
    "my_list=[1,2,3,[3,4]]"
   ]
  },
  {
   "cell_type": "code",
   "execution_count": 26,
   "id": "10a570af-642c-420b-acf3-3d959c855333",
   "metadata": {},
   "outputs": [
    {
     "data": {
      "text/plain": [
       "2"
      ]
     },
     "execution_count": 26,
     "metadata": {},
     "output_type": "execute_result"
    }
   ],
   "source": [
    "my_list"
   ]
  },
  {
   "cell_type": "code",
   "execution_count": 18,
   "id": "0b3b1159-92a5-43db-bd39-fca2303ec121",
   "metadata": {},
   "outputs": [],
   "source": [
    "my_list=[1,2,3,'a','b']\n"
   ]
  },
  {
   "cell_type": "code",
   "execution_count": 19,
   "id": "ab346991-491d-48d4-83ed-fb7011a66f3e",
   "metadata": {},
   "outputs": [
    {
     "data": {
      "text/plain": [
       "[1, 2, 3, 'a', 'b']"
      ]
     },
     "execution_count": 19,
     "metadata": {},
     "output_type": "execute_result"
    }
   ],
   "source": [
    "my_list"
   ]
  },
  {
   "cell_type": "code",
   "execution_count": 20,
   "id": "8dc2f827-34ef-4008-a763-d6df04489060",
   "metadata": {},
   "outputs": [
    {
     "data": {
      "text/plain": [
       "1"
      ]
     },
     "execution_count": 20,
     "metadata": {},
     "output_type": "execute_result"
    }
   ],
   "source": [
    "my_list[0]"
   ]
  },
  {
   "cell_type": "code",
   "execution_count": null,
   "id": "89f94e09-ad03-41d3-acfb-77157560b171",
   "metadata": {},
   "outputs": [],
   "source": []
  },
  {
   "cell_type": "code",
   "execution_count": 28,
   "id": "73f38e00-9c2b-44df-af7b-d5243a853fb8",
   "metadata": {},
   "outputs": [],
   "source": [
    "my_list=[3][0]\n"
   ]
  },
  {
   "cell_type": "code",
   "execution_count": 25,
   "id": "5a77b5b7-6dab-4dce-9433-c82b8ad718f9",
   "metadata": {},
   "outputs": [
    {
     "data": {
      "text/plain": [
       "2"
      ]
     },
     "execution_count": 25,
     "metadata": {},
     "output_type": "execute_result"
    }
   ],
   "source": [
    "my_list"
   ]
  },
  {
   "cell_type": "code",
   "execution_count": null,
   "id": "b73d0537-8fbf-4d77-a837-ae15f56c901c",
   "metadata": {},
   "outputs": [],
   "source": [
    "z=['a','b','c']\n"
   ]
  },
  {
   "cell_type": "code",
   "execution_count": 30,
   "id": "a1c5c083-8d96-45cf-8f76-35def7db9f10",
   "metadata": {},
   "outputs": [
    {
     "data": {
      "text/plain": [
       "['a', 'b', 'c']"
      ]
     },
     "execution_count": 30,
     "metadata": {},
     "output_type": "execute_result"
    }
   ],
   "source": [
    "z"
   ]
  },
  {
   "cell_type": "code",
   "execution_count": null,
   "id": "b524872d-8171-4022-b531-f1ee740392b9",
   "metadata": {},
   "outputs": [],
   "source": [
    "z[:2]\n"
   ]
  },
  {
   "cell_type": "code",
   "execution_count": 35,
   "id": "e55e32df-72cf-42e1-970e-691734f8ade9",
   "metadata": {},
   "outputs": [],
   "source": [
    "z[0]='new'"
   ]
  },
  {
   "cell_type": "code",
   "execution_count": 36,
   "id": "389e016b-3f32-4aa4-8725-d344663b6930",
   "metadata": {},
   "outputs": [
    {
     "data": {
      "text/plain": [
       "['new', 'b', 'c']"
      ]
     },
     "execution_count": 36,
     "metadata": {},
     "output_type": "execute_result"
    }
   ],
   "source": [
    "z"
   ]
  },
  {
   "cell_type": "markdown",
   "id": "47bfc046-0958-4e21-9474-3c4f1cd4fd5c",
   "metadata": {},
   "source": [
    "## Tuple\n"
   ]
  },
  {
   "cell_type": "code",
   "execution_count": 37,
   "id": "577955af-d742-4f7a-8eeb-dc10db2b7716",
   "metadata": {},
   "outputs": [],
   "source": [
    "t=(1,2,3)"
   ]
  },
  {
   "cell_type": "code",
   "execution_count": 38,
   "id": "fb0da7be-a69d-4562-b0c0-eb11d296b6f1",
   "metadata": {},
   "outputs": [
    {
     "data": {
      "text/plain": [
       "(1, 2, 3)"
      ]
     },
     "execution_count": 38,
     "metadata": {},
     "output_type": "execute_result"
    }
   ],
   "source": [
    "t"
   ]
  },
  {
   "cell_type": "code",
   "execution_count": 39,
   "id": "61b50753-efc0-4afb-a4f3-0ed8ed23ef84",
   "metadata": {},
   "outputs": [
    {
     "ename": "TypeError",
     "evalue": "'tuple' object does not support item assignment",
     "output_type": "error",
     "traceback": [
      "\u001b[0;31m---------------------------------------------------------------------------\u001b[0m",
      "\u001b[0;31mTypeError\u001b[0m                                 Traceback (most recent call last)",
      "Cell \u001b[0;32mIn[39], line 1\u001b[0m\n\u001b[0;32m----> 1\u001b[0m \u001b[43mt\u001b[49m\u001b[43m[\u001b[49m\u001b[38;5;241;43m0\u001b[39;49m\u001b[43m]\u001b[49m\u001b[38;5;241m=\u001b[39m\u001b[38;5;124m'\u001b[39m\u001b[38;5;124mnew\u001b[39m\u001b[38;5;124m'\u001b[39m\n",
      "\u001b[0;31mTypeError\u001b[0m: 'tuple' object does not support item assignment"
     ]
    }
   ],
   "source": [
    "t[0]='new'"
   ]
  },
  {
   "cell_type": "markdown",
   "id": "303f3f9d-81d4-47dc-81ff-3155e8c6f687",
   "metadata": {},
   "source": [
    "## Dictionary"
   ]
  },
  {
   "cell_type": "code",
   "execution_count": 41,
   "id": "dda45d02-726d-487b-bc39-a6879254fc9c",
   "metadata": {},
   "outputs": [],
   "source": [
    "d={'name':'Abia','Age':20}"
   ]
  },
  {
   "cell_type": "code",
   "execution_count": 42,
   "id": "6aeca61f-6718-49ab-88c2-82e3067902ec",
   "metadata": {},
   "outputs": [
    {
     "data": {
      "text/plain": [
       "{'name': 'Abia', 'Age': 20}"
      ]
     },
     "execution_count": 42,
     "metadata": {},
     "output_type": "execute_result"
    }
   ],
   "source": [
    "d"
   ]
  },
  {
   "cell_type": "code",
   "execution_count": 46,
   "id": "b46f87d1-7305-4fee-baa7-4a2f3832ab91",
   "metadata": {},
   "outputs": [
    {
     "data": {
      "text/plain": [
       "20"
      ]
     },
     "execution_count": 46,
     "metadata": {},
     "output_type": "execute_result"
    }
   ],
   "source": [
    "d['Age']"
   ]
  },
  {
   "cell_type": "code",
   "execution_count": 47,
   "id": "e343acb1-aa9f-49cd-b34e-aa02a7d4979d",
   "metadata": {},
   "outputs": [
    {
     "data": {
      "text/plain": [
       "{1, 2, 3, 4, 5, 6}"
      ]
     },
     "execution_count": 47,
     "metadata": {},
     "output_type": "execute_result"
    }
   ],
   "source": [
    "{1,2,2,2,2,3,3,4,5,6}\n"
   ]
  },
  {
   "cell_type": "markdown",
   "id": "7a5b6e46-eaa8-4d19-a68c-5644f2613d96",
   "metadata": {},
   "source": [
    "## Definition  fn\n"
   ]
  },
  {
   "cell_type": "code",
   "execution_count": 48,
   "id": "5e7ac858-adb0-4a15-9b47-5cf6bb86b8d2",
   "metadata": {},
   "outputs": [],
   "source": [
    "def time2(var):\n",
    "    return var*2"
   ]
  },
  {
   "cell_type": "code",
   "execution_count": 50,
   "id": "a9687145-16d3-4061-a71e-e0536751e021",
   "metadata": {},
   "outputs": [
    {
     "data": {
      "text/plain": [
       "4"
      ]
     },
     "execution_count": 50,
     "metadata": {},
     "output_type": "execute_result"
    }
   ],
   "source": [
    "time2(2)"
   ]
  },
  {
   "cell_type": "markdown",
   "id": "54940a65-0bbd-45c8-9451-3b4c209673b7",
   "metadata": {},
   "source": [
    "## Lambda Fn"
   ]
  },
  {
   "cell_type": "code",
   "execution_count": 51,
   "id": "cf4d6e40-925b-4182-836c-c18f94b80fc5",
   "metadata": {},
   "outputs": [],
   "source": [
    "time2=lambda var:var*2"
   ]
  },
  {
   "cell_type": "code",
   "execution_count": 52,
   "id": "3f55c37e-4c49-41ba-ba9a-f0d769990615",
   "metadata": {},
   "outputs": [
    {
     "name": "stdout",
     "output_type": "stream",
     "text": [
      "4\n"
     ]
    }
   ],
   "source": [
    "print(time2(2))"
   ]
  },
  {
   "cell_type": "markdown",
   "id": "1454b87d-c2c6-40d7-8704-5e85cb8dad50",
   "metadata": {},
   "source": [
    "## Loop\n"
   ]
  },
  {
   "cell_type": "code",
   "execution_count": 54,
   "id": "5f1f7b36-307c-4885-82c3-693042c6dcac",
   "metadata": {},
   "outputs": [],
   "source": [
    "X=[1,2,3,4]"
   ]
  },
  {
   "cell_type": "code",
   "execution_count": 57,
   "id": "09075606-09d8-4f37-ad1d-1ca26b6a9676",
   "metadata": {},
   "outputs": [
    {
     "name": "stdout",
     "output_type": "stream",
     "text": [
      "[1, 4, 9, 16]\n"
     ]
    }
   ],
   "source": [
    "out=[]\n",
    "for i in X:\n",
    "    out.append(i**2)\n",
    "print(out)\n"
   ]
  },
  {
   "cell_type": "markdown",
   "id": "76e7d754-01f2-486c-b353-125d4b1523fe",
   "metadata": {},
   "source": [
    "## Printing using format"
   ]
  },
  {
   "cell_type": "code",
   "execution_count": 61,
   "id": "aabaa5d2-8a30-49b0-8750-29ffd4c79d06",
   "metadata": {},
   "outputs": [
    {
     "name": "stdout",
     "output_type": "stream",
     "text": [
      "my name is abia,my number is 8\n"
     ]
    }
   ],
   "source": [
    "print('my name is {0},my number is {1}'.format('abia',8))"
   ]
  },
  {
   "cell_type": "code",
   "execution_count": 62,
   "id": "df72200b-b294-426d-ad0a-5340f601b656",
   "metadata": {},
   "outputs": [],
   "source": [
    "a='abia'\n",
    "b=8\n"
   ]
  },
  {
   "cell_type": "code",
   "execution_count": 63,
   "id": "011cc5c3-7a4b-4548-acbe-eaff5fce9c48",
   "metadata": {},
   "outputs": [
    {
     "name": "stdout",
     "output_type": "stream",
     "text": [
      "my name is abia,my number is 8\n"
     ]
    }
   ],
   "source": [
    "print('my name is {one},my number is {two}'.format(one=a,two=b))"
   ]
  },
  {
   "cell_type": "code",
   "execution_count": null,
   "id": "f075ee19-57a0-4c46-a435-5f1381a0acbd",
   "metadata": {},
   "outputs": [],
   "source": []
  }
 ],
 "metadata": {
  "kernelspec": {
   "display_name": "Python 3 (Intel® oneAPI 2023.2)",
   "language": "python",
   "name": "c009-intel_distribution_of_python_3_oneapi-beta05-python"
  },
  "language_info": {
   "codemirror_mode": {
    "name": "ipython",
    "version": 3
   },
   "file_extension": ".py",
   "mimetype": "text/x-python",
   "name": "python",
   "nbconvert_exporter": "python",
   "pygments_lexer": "ipython3",
   "version": "3.9.16"
  }
 },
 "nbformat": 4,
 "nbformat_minor": 5
}
